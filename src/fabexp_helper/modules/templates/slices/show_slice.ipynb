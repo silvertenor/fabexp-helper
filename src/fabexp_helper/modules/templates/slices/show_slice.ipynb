{
 "cells": [
  {
   "cell_type": "markdown",
   "id": "60e3fd3a-d102-4626-9849-755cfdd24948",
   "metadata": {},
   "source": [
    "# Show Individual Slice"
   ]
  },
  {
   "cell_type": "markdown",
   "id": "bebf9e49-d901-46ec-94e6-62d4be407a4e",
   "metadata": {},
   "source": [
    "## Import FABlib"
   ]
  },
  {
   "cell_type": "code",
   "execution_count": null,
   "id": "7e2a3475",
   "metadata": {},
   "outputs": [],
   "source": [
    "from fabrictestbed_extensions.fablib.fablib import FablibManager as fablib_manager\n",
    "\n",
    "try: \n",
    "    fablib = fablib_manager()\n",
    "                     \n",
    "    fablib.show_config()\n",
    "except Exception as e:\n",
    "    print(f\"Exception: {e}\")"
   ]
  },
  {
   "cell_type": "markdown",
   "id": "69c4611f-a9e2-4756-ad7f-bb6d23ed7b9c",
   "metadata": {},
   "source": [
    "## List the Slices \n",
    "\n",
    "List all slices to find a target slice for the rest of this notebook.  If you do not have any existing slices, you should create one or more before continuing.\n",
    "\n",
    "The output of the following call should print some active slice names and ID that you can cut/paste to the remaining example cells."
   ]
  },
  {
   "cell_type": "code",
   "execution_count": null,
   "id": "da8197ff-eb2c-4e60-8a80-20e532d9e3b5",
   "metadata": {},
   "outputs": [],
   "source": [
    "try: \n",
    "    fablib.list_slices()\n",
    "except Exception as e:\n",
    "    print(f\"Exception: {e}\")"
   ]
  },
  {
   "cell_type": "markdown",
   "id": "f65b0dfe-f435-442b-bec8-cc5f5f4e35c0",
   "metadata": {},
   "source": [
    "## Get a Slice by Name"
   ]
  },
  {
   "cell_type": "markdown",
   "id": "2ff0ef2c-6e31-48a1-88df-656bfb7f1e9f",
   "metadata": {
    "tags": []
   },
   "source": [
    "You can get a current slice using its name. Names of current slices are unique. However, you can reuse slice names of deleted or failed slices.   If you want to get a deleted or failed slice you cannot use its name because it is not guaranteed to be unique.  \n"
   ]
  },
  {
   "cell_type": "code",
   "execution_count": null,
   "id": "02a727ab-9bf8-47d0-8e45-9f07be92421d",
   "metadata": {},
   "outputs": [],
   "source": [
    "slice_name='MySlice'\n",
    "\n",
    "try:\n",
    "    slice = fablib.get_slice(name=slice_name)\n",
    "    output = slice.show()\n",
    "except Exception as e:\n",
    "    print(f\"Exception: {e}\")"
   ]
  },
  {
   "cell_type": "markdown",
   "id": "0b6adac2-0187-4bf7-9845-1c29ce7a071a",
   "metadata": {},
   "source": [
    "## Get a Slice by ID\n",
    "\n",
    "You can get any slice using its slice ID.  Slice IDs are guaranteed to be unique so you can use them to get deleted and failed slices, as well as active ones. \n"
   ]
  },
  {
   "cell_type": "code",
   "execution_count": null,
   "id": "b495a088-c776-4c9a-93e9-d95595ce498c",
   "metadata": {},
   "outputs": [],
   "source": [
    "# Replace with valid slice ID\n",
    "slice_id=<VAILD_SLICE_ID>\n",
    "\n",
    "try:\n",
    "    slice = fablib.get_slice(slice_id=slice_id)\n",
    "    output = slice.show()\n",
    "except Exception as e:\n",
    "    print(f\"Exception: {e}\")"
   ]
  },
  {
   "cell_type": "markdown",
   "id": "511cb0c6-e62e-4466-9981-11b52c3fae18",
   "metadata": {},
   "source": [
    "## Get all Slices\n",
    "\n",
    "By default this will get all the active slices and not get Dead and Closing slices."
   ]
  },
  {
   "cell_type": "code",
   "execution_count": null,
   "id": "72edf39c-75b7-4e56-b296-3f002fe4469f",
   "metadata": {},
   "outputs": [],
   "source": [
    "try:\n",
    "    for slice in fablib.get_slices():\n",
    "         output = slice.show()\n",
    "except Exception as e:\n",
    "    print(f\"Exception: {e}\")"
   ]
  },
  {
   "cell_type": "markdown",
   "id": "eec0c561-ba73-4ba4-88ca-d63381264266",
   "metadata": {},
   "source": [
    "## Select Fields"
   ]
  },
  {
   "cell_type": "code",
   "execution_count": null,
   "id": "a109654e-4d38-406d-b429-096fc3e973ee",
   "metadata": {},
   "outputs": [],
   "source": [
    "slice_name='MySlice'\n",
    "\n",
    "try:\n",
    "    slice = fablib.get_slice(name=slice_name)\n",
    "    \n",
    "    output = slice.show(fields=['name','state'])\n",
    "except Exception as e:\n",
    "    print(f\"Exception: {e}\")"
   ]
  },
  {
   "cell_type": "markdown",
   "id": "0ed2166c-04df-4eb5-b692-3e253e98e608",
   "metadata": {},
   "source": [
    "## Output as Text"
   ]
  },
  {
   "cell_type": "code",
   "execution_count": null,
   "id": "f6f2d79d-a2d6-4620-9711-fafea7e4bab0",
   "metadata": {},
   "outputs": [],
   "source": [
    "slice_name='MySlice'\n",
    "\n",
    "try:\n",
    "    slice = fablib.get_slice(name=slice_name)\n",
    "    \n",
    "    output_string = slice.show(output='text')\n",
    "except Exception as e:\n",
    "    print(f\"Exception: {e}\")"
   ]
  },
  {
   "cell_type": "markdown",
   "id": "72e8068a-db36-45e5-994f-5a3bf4499303",
   "metadata": {},
   "source": [
    "## Output as JSON String"
   ]
  },
  {
   "cell_type": "code",
   "execution_count": null,
   "id": "1e670dff-5b62-4a6a-9a2c-051a4cc9552a",
   "metadata": {},
   "outputs": [],
   "source": [
    "slice_name='MySlice'\n",
    "\n",
    "try:\n",
    "    slice = fablib.get_slice(name=slice_name)\n",
    "    \n",
    "    output_json_string = slice.show(output='json')\n",
    "except Exception as e:\n",
    "    print(f\"Exception: {e}\")"
   ]
  },
  {
   "cell_type": "markdown",
   "id": "e42f017c-930a-467e-a139-053a5e564181",
   "metadata": {},
   "source": [
    "## Output as Python Dictionary"
   ]
  },
  {
   "cell_type": "code",
   "execution_count": null,
   "id": "04ceb045-9e9a-4707-9fd3-4ac89480e298",
   "metadata": {},
   "outputs": [],
   "source": [
    "slice_name='MySlice'\n",
    "\n",
    "try:\n",
    "    slice = fablib.get_slice(name=slice_name)\n",
    "    \n",
    "    output_dict = slice.show(output='dict')\n",
    "except Exception as e:\n",
    "    print(f\"Exception: {e}\")"
   ]
  },
  {
   "cell_type": "markdown",
   "id": "f3b8a7e4-1344-4471-a883-b36992756ac0",
   "metadata": {},
   "source": [
    "Use the information from the dictionary"
   ]
  },
  {
   "cell_type": "code",
   "execution_count": null,
   "id": "51a01531-8263-43b8-a392-3c837ba8e11e",
   "metadata": {},
   "outputs": [],
   "source": [
    "slice_name='MySlice'\n",
    "\n",
    "try:\n",
    "    slice = fablib.get_slice(name=slice_name)\n",
    "    \n",
    "    output_dict = slice.show(output='dict', quiet=True)\n",
    "    \n",
    "    print(f\"{output_dict['name']}, {output_dict['state']}\")\n",
    "except Exception as e:\n",
    "    print(f\"Exception: {e}\")"
   ]
  },
  {
   "cell_type": "code",
   "execution_count": null,
   "id": "28a3c5f2-9f33-4b3b-965c-fb649289546b",
   "metadata": {},
   "outputs": [],
   "source": []
  }
 ],
 "metadata": {
  "kernelspec": {
   "display_name": "Python 3 (ipykernel)",
   "language": "python",
   "name": "python3"
  },
  "language_info": {
   "codemirror_mode": {
    "name": "ipython",
    "version": 3
   },
   "file_extension": ".py",
   "mimetype": "text/x-python",
   "name": "python",
   "nbconvert_exporter": "python",
   "pygments_lexer": "ipython3",
   "version": "3.9.7"
  }
 },
 "nbformat": 4,
 "nbformat_minor": 5
}
