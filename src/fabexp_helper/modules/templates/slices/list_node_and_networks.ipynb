{
 "cells": [
  {
   "cell_type": "markdown",
   "id": "60e3fd3a-d102-4626-9849-755cfdd24948",
   "metadata": {},
   "source": [
    "# List Slice Nodes and Networks"
   ]
  },
  {
   "cell_type": "markdown",
   "id": "bebf9e49-d901-46ec-94e6-62d4be407a4e",
   "metadata": {},
   "source": [
    "## Import FABlib"
   ]
  },
  {
   "cell_type": "code",
   "execution_count": null,
   "id": "7e2a3475",
   "metadata": {},
   "outputs": [],
   "source": [
    "from fabrictestbed_extensions.fablib.fablib import FablibManager as fablib_manager\n",
    "\n",
    "try: \n",
    "    fablib = fablib_manager()\n",
    "                     \n",
    "    fablib.show_config()\n",
    "except Exception as e:\n",
    "    print(f\"Exception: {e}\")"
   ]
  },
  {
   "cell_type": "markdown",
   "id": "69c4611f-a9e2-4756-ad7f-bb6d23ed7b9c",
   "metadata": {},
   "source": [
    "## List the Slices \n",
    "\n",
    "List all slices to find a target slice for the rest of this notebook.  If you do not have any existing slices, you should create one or more before continuing.  For best results using these examples, create a slice with multiple nodes and networks.\n",
    "\n",
    "The output of the following call should print some active slice names and ID that you can cut/paste to the remaining example cells. "
   ]
  },
  {
   "cell_type": "code",
   "execution_count": null,
   "id": "da8197ff-eb2c-4e60-8a80-20e532d9e3b5",
   "metadata": {},
   "outputs": [],
   "source": [
    "try: \n",
    "    fablib.list_slices()\n",
    "except Exception as e:\n",
    "    print(f\"Exception: {e}\")"
   ]
  },
  {
   "cell_type": "markdown",
   "id": "f65b0dfe-f435-442b-bec8-cc5f5f4e35c0",
   "metadata": {},
   "source": [
    "## Get a Slice by Name"
   ]
  },
  {
   "cell_type": "code",
   "execution_count": null,
   "id": "02a727ab-9bf8-47d0-8e45-9f07be92421d",
   "metadata": {},
   "outputs": [],
   "source": [
    "slice_name='MySlice'\n",
    "\n",
    "try:\n",
    "    slice = fablib.get_slice(name=slice_name)\n",
    "    output = slice.show()\n",
    "except Exception as e:\n",
    "    print(f\"Exception: {e}\")"
   ]
  },
  {
   "cell_type": "markdown",
   "id": "0b6adac2-0187-4bf7-9845-1c29ce7a071a",
   "metadata": {},
   "source": [
    "## List Nodes\n",
    "\n",
    "The `slice.list_nodes` method lists all nodes in a slice. Like all `list` methods, this method prints output as `text`,`pandas`,`json`, or `list`. The output can be filtered using the `fields` and `filter_function` arguments.  See the `list_sites` example notebook for more information about output options."
   ]
  },
  {
   "cell_type": "code",
   "execution_count": null,
   "id": "b495a088-c776-4c9a-93e9-d95595ce498c",
   "metadata": {},
   "outputs": [],
   "source": [
    "try:\n",
    "    output = slice.list_nodes()\n",
    "except Exception as e:\n",
    "    print(f\"Exception: {e}\")"
   ]
  },
  {
   "cell_type": "markdown",
   "id": "511cb0c6-e62e-4466-9981-11b52c3fae18",
   "metadata": {
    "tags": []
   },
   "source": [
    "## List Networks\n",
    "\n",
    "The `slice.list_networks` method lists all networks in a slice. Like all `list` methods, this method prints output as `text`,`pandas`,`json`, or `list`. The output can be filtered using the `fields` and `filter_function` arguments. See the `list_sites` example notebook for more information about output options."
   ]
  },
  {
   "cell_type": "code",
   "execution_count": null,
   "id": "72edf39c-75b7-4e56-b296-3f002fe4469f",
   "metadata": {},
   "outputs": [],
   "source": [
    "try:\n",
    "    output = slice.list_networks()\n",
    "except Exception as e:\n",
    "    print(f\"Exception: {e}\")"
   ]
  },
  {
   "cell_type": "markdown",
   "id": "eec0c561-ba73-4ba4-88ca-d63381264266",
   "metadata": {},
   "source": [
    "## List Interfaces\n",
    "\n",
    "The `slice.list_interfaes` method lists all networks in a slice. Like all `list` methods, this method prints output as `text`,`pandas`,`json`, or `list`. The output can be filtered using the `fields` and `filter_function` arguments. See the `list_sites` example notebook for more information about output options."
   ]
  },
  {
   "cell_type": "code",
   "execution_count": null,
   "id": "a109654e-4d38-406d-b429-096fc3e973ee",
   "metadata": {},
   "outputs": [],
   "source": [
    "try:\n",
    "    output = slice.list_interfaces()\n",
    "except Exception as e:\n",
    "    print(f\"Exception: {e}\")"
   ]
  },
  {
   "cell_type": "markdown",
   "id": "0ed2166c-04df-4eb5-b692-3e253e98e608",
   "metadata": {},
   "source": [
    "## List Components\n",
    "\n",
    "The `slice.list_interfaes` method lists all networks in a slice. Like all `list` methods, this method prints output as `text`,`pandas`,`json`, or `list`. The output can be filtered using the `fields` and `filter_function` arguments. See the `list_sites` example notebook for more information about output options."
   ]
  },
  {
   "cell_type": "code",
   "execution_count": null,
   "id": "f6f2d79d-a2d6-4620-9711-fafea7e4bab0",
   "metadata": {},
   "outputs": [],
   "source": [
    "try:\n",
    "    output = slice.list_components()\n",
    "except Exception as e:\n",
    "    print(f\"Exception: {e}\")"
   ]
  }
 ],
 "metadata": {
  "kernelspec": {
   "display_name": "Python 3 (ipykernel)",
   "language": "python",
   "name": "python3"
  },
  "language_info": {
   "codemirror_mode": {
    "name": "ipython",
    "version": 3
   },
   "file_extension": ".py",
   "mimetype": "text/x-python",
   "name": "python",
   "nbconvert_exporter": "python",
   "pygments_lexer": "ipython3",
   "version": "3.9.7"
  }
 },
 "nbformat": 4,
 "nbformat_minor": 5
}
