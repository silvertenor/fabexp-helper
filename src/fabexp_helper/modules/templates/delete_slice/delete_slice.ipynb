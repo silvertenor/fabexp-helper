{
 "cells": [
  {
   "cell_type": "markdown",
   "id": "60e3fd3a-d102-4626-9849-755cfdd24948",
   "metadata": {},
   "source": [
    "# Delete a Slice\n"
   ]
  },
  {
   "cell_type": "markdown",
   "id": "bf10dd40-6a24-4133-ae34-c8d7c15d81cb",
   "metadata": {},
   "source": [
    "### Import the fablib Library"
   ]
  },
  {
   "cell_type": "code",
   "execution_count": null,
   "id": "79347040-96fe-4d12-b97c-ca9ef56e0a10",
   "metadata": {},
   "outputs": [],
   "source": [
    "from fabrictestbed_extensions.fablib.fablib import FablibManager as fablib_manager\n",
    "\n",
    "try:\n",
    "    fablib = fablib_manager()\n",
    "                     \n",
    "    fablib.show_config()\n",
    "except Exception as e:\n",
    "    print(f\"Exception: {e}\")"
   ]
  },
  {
   "cell_type": "markdown",
   "id": "162b7b7d-1d91-40da-9255-4f5cc69b32f9",
   "metadata": {},
   "source": [
    "## Option 1: Get and Delete the Slice\n",
    "\n",
    "You slice is in the list of all your slices. You can loop through the list of slices to get the slice. Python has a standard tool to filter lists. Try using a lambda function to filter out your slice using its name."
   ]
  },
  {
   "cell_type": "code",
   "execution_count": null,
   "id": "ad093053-e64d-48cc-a02a-4493df8ffafa",
   "metadata": {},
   "outputs": [],
   "source": [
    "slice_name='MySlice'\n",
    "\n",
    "try:\n",
    "    slice = fablib.get_slice(name=slice_name)\n",
    "    print(f\"Slice: {slice.get_name()}\")\n",
    "    \n",
    "    slice.delete()\n",
    "except Exception as e:\n",
    "    print(f\"Exception: {e}\")"
   ]
  },
  {
   "cell_type": "markdown",
   "id": "1c27601e-9d65-476f-8be3-4126fb8d6408",
   "metadata": {
    "tags": []
   },
   "source": [
    "## Option 2: Delete Slice by Name"
   ]
  },
  {
   "cell_type": "code",
   "execution_count": null,
   "id": "01d5b365-b2a9-439a-ac36-8b925d46c219",
   "metadata": {},
   "outputs": [],
   "source": [
    "slice_name='MySlice'\n",
    "\n",
    "try:\n",
    "    slice = fablib.delete_slice(slice_name)\n",
    "except Exception as e:\n",
    "    print(f\"Exception: {e}\")"
   ]
  },
  {
   "cell_type": "markdown",
   "id": "31cd7d0c-7312-4c1b-be0b-42f2564948c1",
   "metadata": {},
   "source": [
    "## Option 3: Delete Slice by ID \n",
    "\n",
    "Slice_id must be known."
   ]
  },
  {
   "cell_type": "code",
   "execution_count": null,
   "id": "eafd9778-aafe-470a-bd52-da273e3ee3e7",
   "metadata": {},
   "outputs": [],
   "source": [
    "slice_id=<insert_known_slice_id>\n",
    "\n",
    "try:\n",
    "    slice = fablib.delete_slice(slice_id=slice_id)\n",
    "except Exception as e:\n",
    "    print(f\"Exception: {e}\")"
   ]
  },
  {
   "cell_type": "markdown",
   "id": "eeb62d7e-d1ba-4ba3-9e2c-a4bfe8843d34",
   "metadata": {},
   "source": [
    "## Option 4: Delete ALL Slices\n",
    "\n",
    "Deletes all slices owned by a user"
   ]
  },
  {
   "cell_type": "code",
   "execution_count": null,
   "id": "117055f8-dca3-44af-b130-affc9557775c",
   "metadata": {},
   "outputs": [],
   "source": [
    "try:\n",
    "    slice = fablib.delete_all()\n",
    "except Exception as e:\n",
    "    print(f\"Exception: {e}\")"
   ]
  },
  {
   "cell_type": "code",
   "execution_count": null,
   "id": "f3545498-3510-4381-b09b-3434920776d8",
   "metadata": {},
   "outputs": [],
   "source": []
  }
 ],
 "metadata": {
  "kernelspec": {
   "display_name": "Python 3 (ipykernel)",
   "language": "python",
   "name": "python3"
  },
  "language_info": {
   "codemirror_mode": {
    "name": "ipython",
    "version": 3
   },
   "file_extension": ".py",
   "mimetype": "text/x-python",
   "name": "python",
   "nbconvert_exporter": "python",
   "pygments_lexer": "ipython3",
   "version": "3.9.7"
  }
 },
 "nbformat": 4,
 "nbformat_minor": 5
}
