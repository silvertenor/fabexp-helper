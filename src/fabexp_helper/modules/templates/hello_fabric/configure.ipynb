{
 "cells": [
  {
   "cell_type": "markdown",
   "metadata": {
    "tags": []
   },
   "source": [
    "# Configure your Jupyter Environment\n",
    "\n",
    "The following notebook can be used to configure your Jupyter environment.  The product of running this notebook are the following:\n",
    "\n",
    "- `requirements.txt`: Used to upgrade/downgrade your environment with the FABLIB version used by these example notebooks.\n",
    "- `fabric_rc`:  File used to configure a FABlib application.  \n",
    "- `ssh_config`: File used to ssh from from a terminal to FABRIC VM by jumping through the FABRIC bastion host. "
   ]
  },
  {
   "cell_type": "markdown",
   "metadata": {
    "tags": []
   },
   "source": [
    "## Copy your Bastion Key to your JupyterLab Environment\n",
    "\n",
    "In order to minimize security incidents on FABRIC, access to VMs and other resources administered by users is controlled using a bastion host. You will need to set up an ssh keypair that will be used to jump through the bastion host to your VMs and other resources. This keypair is unique to you and is only used to set up ssh proxy connections through the bastion host to your FABRIC resources. \n",
    "\n",
    "The following notebook walks through creating and submitting a bastion keypair necessary to use FABRIC. More information about how to access your experiment through the bastion host can be found [here](https://learn.fabric-testbed.net/knowledge-base/logging-into-fabric-vms/).\n",
    "\n",
    "If you have not created a bastion host keypair, create a new one in the [Experiments](https://portal.fabric-testbed.net/experiments#sshKeys) section of the FABRIC Portal.\n",
    "\n",
    "Copy your bastion private key to your Jupyter container. Drag/drop your key from your local machine to the file browser in your Juypyter browser window. Note the name of your key and location where you put it."
   ]
  },
  {
   "cell_type": "markdown",
   "metadata": {
    "tags": []
   },
   "source": [
    "## Set Bastion Username and Project ID\n",
    "\n",
    "Edit the following cell by entering your FABRIC bastion username and the correct path to the copy of your bastion private key in your Jupyter container.  \n",
    "\n",
    "- Your bastion user name can be found on your [user profile page](https://portal.fabric-testbed.net/user) in the FABRIC portal (click \"My SSH Keys\").\n",
    "- The path to your bastion key was determined when you copied it to the Jupyter container.  \n",
    "\n",
    "The Project ID can be from any of your projects. The ID can be found on the [projects](https://portal.fabric-testbed.net/projects) tab in the FABRIC portal."
   ]
  },
  {
   "cell_type": "code",
   "execution_count": null,
   "metadata": {},
   "outputs": [],
   "source": [
    "export FABRIC_BASTION_USERNAME=<BASTION_USERNAME>\n",
    "export FABRIC_PROJECT_ID=<PROJECT_ID>\n",
    "\n",
    "export FABRIC_BASTION_PRIVATE_KEY_LOCATION=${HOME}/work/fabric_config/fabric_bastion_key\n",
    "\n",
    "export FABRIC_BASTION_SSH_CONFIG_FILE=${HOME}'/work/fabric_config/ssh_config'\n",
    "export FABRIC_RC_FILE=${HOME}'/work/fabric_config/fabric_rc'"
   ]
  },
  {
   "cell_type": "markdown",
   "metadata": {},
   "source": [
    "## Set other Tokens and Keys\n",
    "\n",
    "The the path to where you put your bastion key.The defaults below should work within the Jupyter environment hosted by FABRIC.  Custom installations will require modifications to this configuration.\n"
   ]
  },
  {
   "cell_type": "code",
   "execution_count": null,
   "metadata": {},
   "outputs": [],
   "source": [
    "export FABRIC_TOKEN_FILE=${HOME}'/.tokens.json'\n",
    "export FABRIC_SLICE_PRIVATE_KEY_FILE=${HOME}/work/fabric_config/slice_key\n",
    "export FABRIC_SLICE_PUBLIC_KEY_FILE=${FABRIC_SLICE_PRIVATE_KEY_FILE}.pub"
   ]
  },
  {
   "cell_type": "markdown",
   "metadata": {},
   "source": [
    "Optionally, create a new slice keypair. "
   ]
  },
  {
   "cell_type": "code",
   "execution_count": null,
   "metadata": {},
   "outputs": [],
   "source": [
    "#ssh-keygen -t rsa -b 3072 -f $FABRIC_SLICE_PRIVATE_KEY_FILE -q -N \"\""
   ]
  },
  {
   "cell_type": "markdown",
   "metadata": {},
   "source": [
    "\n",
    "\n",
    "Set the Permissions on your bastion key and private slice key. Your private bastion key must not have it permissions too open."
   ]
  },
  {
   "cell_type": "code",
   "execution_count": null,
   "metadata": {},
   "outputs": [],
   "source": [
    "chmod 600 ${FABRIC_BASTION_PRIVATE_KEY_LOCATION}\n",
    "chmod 600 ${FABRIC_SLICE_PRIVATE_KEY_FILE}"
   ]
  },
  {
   "cell_type": "markdown",
   "metadata": {},
   "source": [
    "## FABLIB Version\n",
    "\n",
    "This package of example notebooks was created using the version of fabrictestbed-extensions (i.e. the FABLIB package) specified in the local `requirements.txt` file.  "
   ]
  },
  {
   "cell_type": "code",
   "execution_count": null,
   "metadata": {},
   "outputs": [],
   "source": [
    "cat requirements.txt"
   ]
  },
  {
   "cell_type": "markdown",
   "metadata": {},
   "source": [
    "These examples may work with your currently installed default FABLIB version.  However, you may want to upgrade/downgrade the FABLIB version to the one used to develop these examples.  The following cell will synchronize your current FABLIB version with these examples."
   ]
  },
  {
   "cell_type": "code",
   "execution_count": null,
   "metadata": {},
   "outputs": [],
   "source": [
    "pip install -r requirements.txt --user --quiet"
   ]
  },
  {
   "cell_type": "markdown",
   "metadata": {},
   "source": [
    "Your Jupyter container will often be updated with the current default FABLIB version.  You can permanently override these updates by setting your desired version in\n",
    "`~/work/fabric_config/requirements.txt`.  If you would like to permanently configure your Jupyter environment to use the FABLIB version used for this set of examples, copy the local `requirnments.txt` file to `~/work/fabric_config/requirements.txt` using the following command."
   ]
  },
  {
   "cell_type": "code",
   "execution_count": null,
   "metadata": {},
   "outputs": [],
   "source": [
    "cp requirements.txt ~/work/fabric_config/requirements.txt"
   ]
  },
  {
   "cell_type": "markdown",
   "metadata": {},
   "source": [
    "## Create the FABRIC Config File \n",
    "\n",
    "\n",
    "The following cell creates the `fabric_rc` file using the values configured above. \n"
   ]
  },
  {
   "cell_type": "code",
   "execution_count": null,
   "metadata": {},
   "outputs": [],
   "source": [
    "cat <<EOF > ${FABRIC_RC_FILE}\n",
    "export FABRIC_CREDMGR_HOST=cm.fabric-testbed.net\n",
    "export FABRIC_ORCHESTRATOR_HOST=orchestrator.fabric-testbed.net\n",
    "\n",
    "export FABRIC_PROJECT_ID=${FABRIC_PROJECT_ID}\n",
    "export FABRIC_TOKEN_LOCATION=${FABRIC_TOKEN_FILE}\n",
    "\n",
    "export FABRIC_BASTION_HOST=bastion.fabric-testbed.net\n",
    "export FABRIC_BASTION_USERNAME=${FABRIC_BASTION_USERNAME}\n",
    "\n",
    "export FABRIC_BASTION_KEY_LOCATION=${FABRIC_BASTION_PRIVATE_KEY_LOCATION}\n",
    "#export FABRIC_BASTION_KEY_PASSPHRASE=\n",
    "\n",
    "export FABRIC_SLICE_PRIVATE_KEY_FILE=${FABRIC_SLICE_PRIVATE_KEY_FILE}\n",
    "export FABRIC_SLICE_PUBLIC_KEY_FILE=${FABRIC_SLICE_PUBLIC_KEY_FILE} \n",
    "#export FABRIC_SLICE_PRIVATE_KEY_PASSPHRASE=\n",
    "\n",
    "export FABRIC_LOG_FILE=${HOME}/fablib.log\n",
    "export FABRIC_LOG_LEVEL=INFO \n",
    "\n",
    "export FABRIC_AVOID=''\n",
    "\n",
    "export FABRIC_SSH_COMMAND_LINE=\"ssh -i {{ _self_.private_ssh_key_file }} -F ${HOME}/work/fabric_config/ssh_config {{ _self_.username }}@{{ _self_.management_ip }}\"\n",
    "EOF"
   ]
  },
  {
   "cell_type": "markdown",
   "metadata": {},
   "source": [
    "## Create the SSH Config File\n",
    "\n",
    "The following cell creates an SSH config file using the values configure above.  The config file allows you to use ssh to jump through the bastion host from a terminal command line.  After creating this file, you can ssh and pass the file with the `-F` option.\n",
    "\n",
    "Alternatively, you can directly edit your [ssh config](~/fabric_config/ssh_config) file.\n"
   ]
  },
  {
   "cell_type": "code",
   "execution_count": null,
   "metadata": {},
   "outputs": [],
   "source": [
    "cat <<EOF > ${FABRIC_BASTION_SSH_CONFIG_FILE}\n",
    "UserKnownHostsFile /dev/null\n",
    "StrictHostKeyChecking no\n",
    "ServerAliveInterval 120 \n",
    "\n",
    "Host bastion.fabric-testbed.net\n",
    "     User ${FABRIC_BASTION_USERNAME}\n",
    "     ForwardAgent yes\n",
    "     Hostname %h\n",
    "     IdentityFile ${FABRIC_BASTION_PRIVATE_KEY_LOCATION}\n",
    "     IdentitiesOnly yes\n",
    "\n",
    "Host * !bastion.fabric-testbed.net\n",
    "     ProxyJump ${FABRIC_BASTION_USERNAME}@bastion.fabric-testbed.net:22\n",
    "EOF"
   ]
  },
  {
   "cell_type": "code",
   "execution_count": null,
   "metadata": {},
   "outputs": [],
   "source": []
  }
 ],
 "metadata": {
  "kernelspec": {
   "display_name": "Python 3 (ipykernel)",
   "language": "python",
   "name": "python3"
  },
  "language_info": {
   "codemirror_mode": {
    "name": "ipython",
    "version": 3
   },
   "file_extension": ".py",
   "mimetype": "text/x-python",
   "name": "python",
   "nbconvert_exporter": "python",
   "pygments_lexer": "ipython3",
   "version": "3.11.0"
  }
 },
 "nbformat": 4,
 "nbformat_minor": 4
}
