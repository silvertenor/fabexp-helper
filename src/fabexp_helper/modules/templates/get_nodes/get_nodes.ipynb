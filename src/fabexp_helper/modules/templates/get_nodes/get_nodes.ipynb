{
 "cells": [
  {
   "cell_type": "markdown",
   "id": "60e3fd3a-d102-4626-9849-755cfdd24948",
   "metadata": {},
   "source": [
    "# FABRIC API: Get Nodes from an Existing Slice\n",
    "\n",
    "## Setup the Experiment\n",
    "\n",
    "#### Import the FABRIC API"
   ]
  },
  {
   "cell_type": "code",
   "execution_count": null,
   "id": "f1666288-98f5-4db9-9700-b3955042bb62",
   "metadata": {
    "tags": []
   },
   "outputs": [],
   "source": [
    "from fabrictestbed_extensions.fablib.fablib import FablibManager as fablib_manager\n",
    "\n",
    "fablib = fablib_manager()\n",
    "                     \n",
    "fablib.show_config()"
   ]
  },
  {
   "cell_type": "code",
   "execution_count": null,
   "id": "3477b109-0ba2-4bca-97ed-96d412ed8164",
   "metadata": {},
   "outputs": [],
   "source": [
    "try:\n",
    "    slices = fablib.get_slices()\n",
    "    for slice in slices:\n",
    "        print(f\"Slice: {slice}\")\n",
    "except Exception as e:\n",
    "    print(f\"Exception: {e}\")"
   ]
  },
  {
   "cell_type": "markdown",
   "id": "4773d193-d958-41a4-9c3c-137e57e37cc5",
   "metadata": {},
   "source": [
    "## Get each Node\n",
    "\n",
    "You can get the nodes from the topology. Each node has various properties."
   ]
  },
  {
   "cell_type": "code",
   "execution_count": null,
   "id": "22cf5bc4-30fa-4d4d-99da-1bd3e24c2cfe",
   "metadata": {},
   "outputs": [],
   "source": [
    "slice_name='MySlice'\n",
    "\n",
    "try:\n",
    "    slice = fablib.get_slice(name=slice_name)\n",
    "    for node in slice.get_nodes():\n",
    "        print(f\"{node}\")   \n",
    "except Exception as e:\n",
    "    print(f\"Exception: {e}\")"
   ]
  },
  {
   "cell_type": "code",
   "execution_count": null,
   "id": "a34fd45a-c8c1-478e-9559-befbe5df7ddf",
   "metadata": {},
   "outputs": [],
   "source": []
  }
 ],
 "metadata": {
  "kernelspec": {
   "display_name": "Python 3 (ipykernel)",
   "language": "python",
   "name": "python3"
  },
  "language_info": {
   "codemirror_mode": {
    "name": "ipython",
    "version": 3
   },
   "file_extension": ".py",
   "mimetype": "text/x-python",
   "name": "python",
   "nbconvert_exporter": "python",
   "pygments_lexer": "ipython3",
   "version": "3.9.2"
  }
 },
 "nbformat": 4,
 "nbformat_minor": 5
}
