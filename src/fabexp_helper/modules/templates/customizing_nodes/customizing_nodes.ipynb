{
 "cells": [
  {
   "cell_type": "markdown",
   "metadata": {
    "tags": []
   },
   "source": [
    "#  Customizing Nodes\n",
    "\n",
    "The [Hello, FABRIC](./hello_fabric.ipynb) notebook demonstrates how to create a simple node on a random FABRIC site with default characteristics.   Most experiments require more control over the placement and configuration of your nodes.  \n",
    "\n",
    "This notebook, will show how to set the following properties on a node:\n",
    "\n",
    "- Site: Choose the FABRIC site where your node will be hosted.\n",
    "- Host: Choose the specific host that the VM will run on.\n",
    "- Cores: Number of cores, amount of RAN\n",
    "- RAM: Amount of RAM\n",
    "- Disk: Amount of local disk space\n",
    "- VM Image: The operating system image used for the VM\n"
   ]
  },
  {
   "cell_type": "markdown",
   "metadata": {
    "tags": []
   },
   "source": [
    "## Setup the Experiment\n",
    "\n",
    "#### Import the FABlib Library"
   ]
  },
  {
   "cell_type": "code",
   "execution_count": null,
   "metadata": {
    "tags": []
   },
   "outputs": [],
   "source": [
    "from fabrictestbed_extensions.fablib.fablib import FablibManager as fablib_manager\n",
    "\n",
    "try:\n",
    "    fablib = fablib_manager()\n",
    "                     \n",
    "    fablib.show_config()\n",
    "except Exception as e:\n",
    "    print(f\"Exception: {e}\")"
   ]
  },
  {
   "cell_type": "markdown",
   "metadata": {
    "tags": []
   },
   "source": [
    "## Create the Experiment Slice\n",
    "\n",
    "Create the slice and set the specific node attributes.  Note that the cores, ram, and disk are only *hints*.  The actual values will be the closest instance type that is larger than the chosen values.\n",
    "\n",
    "Amounts of cores, ram, and disk will be rounded up to the closest instance type. These amounts should be considered minimums rather than specific requirements.  "
   ]
  },
  {
   "cell_type": "code",
   "execution_count": null,
   "metadata": {},
   "outputs": [],
   "source": [
    "try:\n",
    "    slice_name = 'MySlice'\n",
    "    \n",
    "    #Create Slice\n",
    "    slice = fablib.new_slice(slice_name)\n",
    "\n",
    "    # Add node\n",
    "    node = slice.add_node(name='Node1', \n",
    "                          site='TACC',\n",
    "                          host='tacc-w1.fabric-testbed.net',\n",
    "                          cores=4, \n",
    "                          ram=16, \n",
    "                          disk=100, \n",
    "                          image='default_ubuntu_20')\n",
    "\n",
    "    #Submit Slice Request\n",
    "    slice.submit()\n",
    "except Exception as e:\n",
    "    print(f\"Exception: {e}\")"
   ]
  },
  {
   "cell_type": "markdown",
   "metadata": {},
   "source": [
    "Alternatively, you can specify a specific instance type by name. A full list of available instance types is [here](https://github.com/fabric-testbed/InformationModel/blob/master/fim/slivers/data/instance_sizes.json)."
   ]
  },
  {
   "cell_type": "code",
   "execution_count": null,
   "metadata": {},
   "outputs": [],
   "source": [
    "try:\n",
    "    slice_name = 'MySlice'\n",
    "    \n",
    "    #Create Slice\n",
    "    slice = fablib.new_slice(slice_name)\n",
    "\n",
    "    # Add node\n",
    "    node = slice.add_node(name='Node1', \n",
    "                          site='TACC',\n",
    "                          instance_type='fabric.c8.m32.d100',\n",
    "                          image='default_ubuntu_20')\n",
    "\n",
    "    #Submit Slice Request\n",
    "    slice.submit()\n",
    "except Exception as e:\n",
    "    print(f\"Exception: {e}\")"
   ]
  },
  {
   "cell_type": "code",
   "execution_count": null,
   "metadata": {},
   "outputs": [],
   "source": []
  }
 ],
 "metadata": {
  "kernelspec": {
   "display_name": "Python 3 (ipykernel)",
   "language": "python",
   "name": "python3"
  },
  "language_info": {
   "codemirror_mode": {
    "name": "ipython",
    "version": 3
   },
   "file_extension": ".py",
   "mimetype": "text/x-python",
   "name": "python",
   "nbconvert_exporter": "python",
   "pygments_lexer": "ipython3",
   "version": "3.9.7"
  }
 },
 "nbformat": 4,
 "nbformat_minor": 4
}
