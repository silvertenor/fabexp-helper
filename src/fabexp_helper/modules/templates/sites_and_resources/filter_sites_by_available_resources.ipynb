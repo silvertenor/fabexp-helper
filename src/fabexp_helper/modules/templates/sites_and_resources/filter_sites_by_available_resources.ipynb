{
 "cells": [
  {
   "cell_type": "markdown",
   "metadata": {
    "tags": []
   },
   "source": [
    "# Find Sites with Specific Resources Available \n",
    "\n",
    "Many FABlib objects have `list` and `show` methods that display and return tables of other objects and their properties. This notebook shows how you can choose to display specific fields when displaying these lists.\n",
    "\n",
    "Although this example uses the `fablib.list_sites()` method, all FABlib methods of the form `list_xxx()` will accept the `fields` argument. The specific fields available are different for each object type.  Calling the list method without setting the `fields` argument will show all available fields.\n",
    "\n",
    "Finding sites can be accomplished by specifying a `filter_funtion`.  Typically, a lambda function is used as the `filter_function`.  This notebook shows how to specify `filter_functions` to find sites with specific resources \n"
   ]
  },
  {
   "cell_type": "markdown",
   "metadata": {},
   "source": [
    "## Import FABlib"
   ]
  },
  {
   "cell_type": "code",
   "execution_count": null,
   "metadata": {},
   "outputs": [],
   "source": [
    "from fabrictestbed_extensions.fablib.fablib import FablibManager as fablib_manager\n",
    "\n",
    "try: \n",
    "    fablib = fablib_manager()\n",
    "                     \n",
    "    fablib.show_config()\n",
    "except Exception as e:\n",
    "    print(f\"Exception: {e}\")"
   ]
  },
  {
   "cell_type": "markdown",
   "metadata": {},
   "source": [
    "## Filter Lists\n",
    "\n",
    "You can use lambda functions to filter the tables/lists using the values of any `field`\n",
    "\n",
    "Let's find all sites with at more than 2 ConnectX-5's available\n"
   ]
  },
  {
   "cell_type": "code",
   "execution_count": null,
   "metadata": {},
   "outputs": [],
   "source": [
    "try:\n",
    "    fablib.list_sites(filter_function=lambda x: x['nic_connectx_5_available'] > 2)\n",
    "except Exception as e:\n",
    "    print(f\"Exception: {e}\")"
   ]
  },
  {
   "cell_type": "markdown",
   "metadata": {},
   "source": [
    "Find a site that has more than 2 ConnectX-5's and is west of St. Louis, MO"
   ]
  },
  {
   "cell_type": "code",
   "execution_count": null,
   "metadata": {},
   "outputs": [],
   "source": [
    "st_louis_lat_long=(32.773081, -96.797448)\n",
    "\n",
    "try:\n",
    "    fablib.list_sites(filter_function=lambda x: x['nic_connectx_5_available'] > 2 and x['location'][1] < st_louis_lat_long[1])\n",
    "except Exception as e:\n",
    "    print(f\"Exception: {e}\")\n"
   ]
  },
  {
   "cell_type": "markdown",
   "metadata": {},
   "source": [
    "## Filter Functions with Specific Fields\n",
    "\n",
    "Set the `fields` argument to a list of desired field names.  "
   ]
  },
  {
   "cell_type": "code",
   "execution_count": null,
   "metadata": {},
   "outputs": [],
   "source": [
    "st_louis_lat_long=(32.773081, -96.797448)\n",
    "\n",
    "try:\n",
    "    fablib.list_sites(filter_function=lambda x: x['nic_connectx_5_available'] > 2 and x['location'][1] < st_louis_lat_long[1],\n",
    "                      fields=['name','address', 'nic_connectx_5_available'])\n",
    "except Exception as e:\n",
    "    print(f\"Exception: {e}\")\n"
   ]
  },
  {
   "cell_type": "markdown",
   "metadata": {},
   "source": [
    "## Get a Site with Available Resources\n",
    "\n",
    "Often you want to find a site that has the resources to support a VM with specific attributes. FABlib provides this functionality by accepting a `filter_function` in the `fablib.get_random_sites` method.   \n",
    "\n",
    "The example below, finds two sites that have at least one available ConnectX-6 cards with one in eastern U.S. and the other in the west.\n"
   ]
  },
  {
   "cell_type": "code",
   "execution_count": null,
   "metadata": {},
   "outputs": [],
   "source": [
    "st_louis_lat_long=(32.773081, -96.797448)\n",
    "\n",
    "\n",
    "try:\n",
    "    west_site = fablib.get_random_site(filter_function=lambda x: x['nic_connectx_6_available'] > 0 and x['location'][1] < st_louis_lat_long[1])                                                                                                                                                                                                                           \n",
    "    east_site = fablib.get_random_site(filter_function=lambda x: x['nic_connectx_6_available'] > 0 and x['location'][1] > st_louis_lat_long[1])                                                                                                                                                                                                                           \n",
    "\n",
    "    print(f\"west_site: {west_site}\")\n",
    "    print(f\"east_site: {east_site}\")\n",
    "\n",
    "except Exception as e:\n",
    "    print(f\"Exception: {e}\")"
   ]
  },
  {
   "cell_type": "markdown",
   "metadata": {},
   "source": [
    "## Get Sites with Available Resources\n",
    "\n",
    "Filter functions can also be used with `fablib.get_random_sites`. The following example gets a list of 4 sites that have at least 2 RTX6000's available."
   ]
  },
  {
   "cell_type": "code",
   "execution_count": null,
   "metadata": {},
   "outputs": [],
   "source": [
    "try:\n",
    "    sites = fablib.get_random_sites(count=4, filter_function=lambda x: x['rtx6000_available'] > 2)                                                                                                                                                                                                                           \n",
    "\n",
    "    print(f\"sites: {sites}\")\n",
    "except Exception as e:\n",
    "    print(f\"Exception: {e}\")"
   ]
  },
  {
   "cell_type": "code",
   "execution_count": null,
   "metadata": {},
   "outputs": [],
   "source": []
  }
 ],
 "metadata": {
  "kernelspec": {
   "display_name": "Python 3 (ipykernel)",
   "language": "python",
   "name": "python3"
  },
  "language_info": {
   "codemirror_mode": {
    "name": "ipython",
    "version": 3
   },
   "file_extension": ".py",
   "mimetype": "text/x-python",
   "name": "python",
   "nbconvert_exporter": "python",
   "pygments_lexer": "ipython3",
   "version": "3.9.7"
  }
 },
 "nbformat": 4,
 "nbformat_minor": 4
}
