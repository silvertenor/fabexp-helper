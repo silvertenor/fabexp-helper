{
 "cells": [
  {
   "cell_type": "markdown",
   "metadata": {
    "tags": []
   },
   "source": [
    "# Persistent Storage\n",
    "\n",
    "This notebook shows how to conenect to a dedicated persisent storage volume that has been created for you project.  Your project lead must request a persisent volume for your project.\n",
    " \n"
   ]
  },
  {
   "cell_type": "markdown",
   "metadata": {
    "tags": []
   },
   "source": [
    "## Import the FABlib Library"
   ]
  },
  {
   "cell_type": "code",
   "execution_count": null,
   "metadata": {
    "tags": []
   },
   "outputs": [],
   "source": [
    "from fabrictestbed_extensions.fablib.fablib import FablibManager as fablib_manager\n",
    "\n",
    "try:\n",
    "    fablib = fablib_manager()\n",
    "                         \n",
    "    fablib.show_config()\n",
    "except Exception as e:\n",
    "    print(f\"Exception: {e}\")"
   ]
  },
  {
   "cell_type": "markdown",
   "metadata": {
    "tags": []
   },
   "source": [
    "##  Create the Experiment Slice\n",
    "\n",
    "You must specify the site and name that contains your project's volume.\n",
    "\n"
   ]
  },
  {
   "cell_type": "code",
   "execution_count": null,
   "metadata": {},
   "outputs": [],
   "source": [
    "try:\n",
    "    site = <SITE_THAT_CONAINS_YOUR_VOLUME>\n",
    "    storage_name = <NAME_OF_YOUR_VOLUME>\n",
    "    \n",
    "    # Create a slice\n",
    "    slice = fablib.new_slice(name=\"MySlice\")\n",
    "    \n",
    "\n",
    "    # Add a node\n",
    "    node = slice.add_node(name=\"Node1\", site=site)\n",
    "    node.add_storage(name=storage_name)\n",
    "\n",
    "    \n",
    "    # Submit the slice\n",
    "    slice.submit()\n",
    "except Exception as e:\n",
    "    print(f\"Exception: {e}\")"
   ]
  },
  {
   "cell_type": "markdown",
   "metadata": {},
   "source": [
    "## Observe the Slice's Attributes\n"
   ]
  },
  {
   "cell_type": "code",
   "execution_count": null,
   "metadata": {},
   "outputs": [],
   "source": [
    "try:\n",
    "    slice.show()\n",
    "    slice.list_nodes()\n",
    "except Exception as e:\n",
    "    print(f\"Exception: {e}\")"
   ]
  },
  {
   "cell_type": "markdown",
   "metadata": {
    "tags": []
   },
   "source": [
    "## Format the Volume\n",
    "\n",
    "The first time you use your persistent volume it will be a raw block device that needs to be formated."
   ]
  },
  {
   "cell_type": "code",
   "execution_count": null,
   "metadata": {},
   "outputs": [],
   "source": [
    "try:\n",
    "    node = slice.get_node('Node1')\n",
    "        \n",
    "    storage = node.get_storage(storage_name)\n",
    "    \n",
    "    print(f\"Storage Device Name: {storage.get_device_name()}\")  \n",
    "        \n",
    "    stdout,stderr = node.execute(f\"sudo mkfs.ext4 {storage.get_device_name()}\")\n",
    "    \n",
    "except Exception as e:\n",
    "    print(f\"Exception: {e}\")"
   ]
  },
  {
   "cell_type": "markdown",
   "metadata": {},
   "source": [
    "## Mount the Volume\n",
    "\n",
    "After you format you volume, you can mount it.  The data in the volume is persisent.  On subseqent uses of the volume, you can mount it and access perviously stored data without formating."
   ]
  },
  {
   "cell_type": "code",
   "execution_count": null,
   "metadata": {},
   "outputs": [],
   "source": [
    "try:\n",
    "        \n",
    "    stdout,stderr = node.execute(f\"sudo mkdir /mnt/fabric_storage; \"\n",
    "                                 f\"sudo mount {storage.get_device_name()} /mnt/fabric_storage; \"\n",
    "                                 f\"df -h\")\n",
    "    \n",
    "    \n",
    "except Exception as e:\n",
    "    print(f\"Exception: {e}\")"
   ]
  },
  {
   "cell_type": "markdown",
   "metadata": {
    "tags": []
   },
   "source": [
    "## Delete the Slice\n",
    "\n",
    "Please delete your slice when you are done with your experiment."
   ]
  },
  {
   "cell_type": "code",
   "execution_count": null,
   "metadata": {},
   "outputs": [],
   "source": [
    "try:\n",
    "    slice.delete()\n",
    "except Exception as e:\n",
    "    print(f\"Exception: {e}\")"
   ]
  },
  {
   "cell_type": "code",
   "execution_count": null,
   "metadata": {},
   "outputs": [],
   "source": []
  }
 ],
 "metadata": {
  "kernelspec": {
   "display_name": "Python 3 (ipykernel)",
   "language": "python",
   "name": "python3"
  },
  "language_info": {
   "codemirror_mode": {
    "name": "ipython",
    "version": 3
   },
   "file_extension": ".py",
   "mimetype": "text/x-python",
   "name": "python",
   "nbconvert_exporter": "python",
   "pygments_lexer": "ipython3",
   "version": "3.9.7"
  }
 },
 "nbformat": 4,
 "nbformat_minor": 4
}
