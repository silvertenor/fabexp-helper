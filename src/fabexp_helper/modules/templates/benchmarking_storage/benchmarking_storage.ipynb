{
 "cells": [
  {
   "cell_type": "markdown",
   "metadata": {},
   "source": [
    "#  FABRIC Storage: Reserve and Benchmark\n",
    "\n",
    "FABRIC has three types of reservable storage:\n",
    " - Local Disk (VM)\n",
    " - NVMe (dedicated PCI device)\n",
    " - Network Storage -- Coming Soon\n",
    "\n",
    "This example notebook will demonstrate how to reserve and use each type of storage. The example will also benchmark each type of storage in order to show its performance."
   ]
  },
  {
   "cell_type": "markdown",
   "metadata": {},
   "source": [
    "## Setup the Experiment\n",
    "\n",
    "#### Import FABRIC API"
   ]
  },
  {
   "cell_type": "code",
   "execution_count": null,
   "metadata": {},
   "outputs": [],
   "source": [
    "from fabrictestbed_extensions.fablib.fablib import FablibManager as fablib_manager\n",
    "\n",
    "fablib = fablib_manager()\n",
    "                     \n",
    "fablib.show_config()"
   ]
  },
  {
   "cell_type": "markdown",
   "metadata": {},
   "source": [
    "## Create a Node\n",
    "\n",
    "The cell below creates a slice that contains a single node with a 1TB NVMe device. \n",
    "\n",
    "\n",
    "### Set the Slice Name and FABRIC Site"
   ]
  },
  {
   "cell_type": "code",
   "execution_count": null,
   "metadata": {},
   "outputs": [],
   "source": [
    "slice_name=\"MySlice\"\n",
    "site=fablib.get_random_site()\n",
    "node_name='Node1'\n",
    "cores=4\n",
    "ram=16\n",
    "disk = 100\n",
    "\n",
    "nvme_name='nvme1'"
   ]
  },
  {
   "cell_type": "code",
   "execution_count": null,
   "metadata": {},
   "outputs": [],
   "source": [
    "try:\n",
    "    #Create Slice\n",
    "    slice = fablib.new_slice(name=slice_name)\n",
    "\n",
    "    # Add node\n",
    "    node = slice.add_node(name=node_name, cores=cores, ram=ram, disk=disk)\n",
    "    \n",
    "    #Add an NVME Drive\n",
    "    node.add_component(model='NVME_P4510', name=nvme_name)\n",
    "\n",
    "    #Submit Slice Request\n",
    "    slice.submit()\n",
    "except Exception as e:\n",
    "    print(f\"Exception: {e}\")"
   ]
  },
  {
   "cell_type": "markdown",
   "metadata": {},
   "source": [
    "## Get the Slice"
   ]
  },
  {
   "cell_type": "code",
   "execution_count": null,
   "metadata": {
    "tags": []
   },
   "outputs": [],
   "source": [
    "try:\n",
    "    slice = fablib.get_slice(name=slice_name)\n",
    "    print(f\"{slice}\")\n",
    "except Exception as e:\n",
    "    print(f\"Exception: {e}\")"
   ]
  },
  {
   "cell_type": "markdown",
   "metadata": {
    "tags": []
   },
   "source": [
    "## Get the Node\n",
    "\n",
    "Retrieve the node information and save the management IP address.\n"
   ]
  },
  {
   "cell_type": "code",
   "execution_count": null,
   "metadata": {},
   "outputs": [],
   "source": [
    "try:\n",
    "    node = slice.get_node(node_name) \n",
    "    print(f\"{node}\")\n",
    "  \n",
    "    nvme1 = node.get_component(nvme_name)\n",
    "    print(f\"{nvme1}\")\n",
    "    \n",
    "except Exception as e:\n",
    "    print(f\"Exception: {e}\")"
   ]
  },
  {
   "cell_type": "markdown",
   "metadata": {},
   "source": [
    "## Configure the NVMe PCI Device\n",
    "\n",
    "NVMe storage is provided as bare PCI block devices and will likely need to be partitioned, formated, and mounted before use."
   ]
  },
  {
   "cell_type": "code",
   "execution_count": null,
   "metadata": {},
   "outputs": [],
   "source": [
    "try:\n",
    "    nvme1.configure_nvme()\n",
    "except Exception as e:\n",
    "    print(f\"Exception: {e}\")"
   ]
  },
  {
   "cell_type": "markdown",
   "metadata": {},
   "source": [
    "## Configure and Benchmark the Storage Devices\n",
    "\n",
    "We will use <code>dd</code> to perform a simple benchmark of the different storage devices.  \n",
    "\n",
    "Note that this is not a complete evaluation of  FABRIC storage devices and is meant more as a exercise for learning about using FABRIC storage and its performance.\n",
    "\n",
    "### Local Disk"
   ]
  },
  {
   "cell_type": "markdown",
   "metadata": {},
   "source": [
    "As seen above the local disk (`/dev/vda1`) is mounted at `/`.  We can read/write to the `/tmp` directory to benchmark this disk.\n",
    "\n",
    "We can verify that `/tmp` is part of `/dev/vda1` by issuing the command below."
   ]
  },
  {
   "cell_type": "code",
   "execution_count": null,
   "metadata": {},
   "outputs": [],
   "source": [
    "command = 'df /tmp'\n",
    "try:\n",
    "    stdout, stderr = node.execute(command)\n",
    "    print(f\"stdout: {stdout}\")\n",
    "    print(f\"stderr: {stderr}\")\n",
    "except Exception as e:\n",
    "    print(f\"Exception: {e}\")"
   ]
  },
  {
   "cell_type": "markdown",
   "metadata": {},
   "source": [
    "Now lets try writing a modest 1G file to the local disk using a simple `dd` command. We will use a 1G block size to simulate a full 1G file being written. If you would like to simulate a lot of smaller files you should reduce the value of `bs` to the size of the files and increase `count` to the number of files."
   ]
  },
  {
   "cell_type": "code",
   "execution_count": null,
   "metadata": {},
   "outputs": [],
   "source": [
    "command='dd if=/dev/zero of=/tmp/output bs=1G count=1'\n",
    "try:\n",
    "    stdout, stderr = node.execute(command)\n",
    "    print(f\"stdout: {stdout}\")\n",
    "    print(f\"stderr: {stderr}\")\n",
    "except Exception as e:\n",
    "    print(f\"Exception: {e}\")"
   ]
  },
  {
   "cell_type": "markdown",
   "metadata": {},
   "source": [
    "The 1G file was probably written at over 1 GB/s. This is much faster than the local disk. How did this happen? The answer is that there the OS and VM hypervisor both have buffers in memory that allow bursts of file writes to be quickly written memory and, later, transfered to disk. This optimization helps many applications but is limited by the memory available for disk caching. \n",
    "\n",
    "Typically, storage benchmarking aims to test performance of the stoarge, not the OS buffering system. Some `dd` options can help with this.  Let's try again but add the `oflag=direct` option that will skip the file system buffer used by the VM's OS."
   ]
  },
  {
   "cell_type": "code",
   "execution_count": null,
   "metadata": {},
   "outputs": [],
   "source": [
    "command='dd if=/dev/zero of=/tmp/output bs=1G count=1 oflag=direct'\n",
    "try:\n",
    "    stdout, stderr = node.execute(command)\n",
    "    print(f\"stdout: {stdout}\")\n",
    "    print(f\"stderr: {stderr}\")\n",
    "except Exception as e:\n",
    "    print(f\"Exception: {e}\")"
   ]
  },
  {
   "cell_type": "markdown",
   "metadata": {},
   "source": [
    "What did you find? Often, this produces a counterintuitive result. It is not surprising to see speeds over 2.5 GB/s.  What is happening here?  \n",
    "\n",
    "The increased performance is due to the hypervisor's virtual block device cache. Although this cache was also used in the previous step, it seems that it can enable higher bandwidth on its own than when used in combination with the VM's file system cache. \n",
    "\n",
    "Skipping this cache and writing directly to the physical block device is not possible without re-configuring the hypervisor. You will not be able to perform this test on FABRIC. You can, however, write a large enough file that the cache fills early in the write and the amortized performance approaches the block devices' write performance.\n",
    "\n",
    "Try writing larger files. Note these tests could take tens of minutes so be patient.\n",
    "\n",
    "Write a 10G file:"
   ]
  },
  {
   "cell_type": "code",
   "execution_count": null,
   "metadata": {},
   "outputs": [],
   "source": [
    "command='dd if=/dev/zero of=/tmp/output bs=5G count=1 oflag=direct'\n",
    "try:\n",
    "    stdout, stderr = node.execute(command)\n",
    "    print(f\"stdout: {stdout}\")\n",
    "    print(f\"stderr: {stderr}\")\n",
    "except Exception as e:\n",
    "    print(f\"Exception: {e}\")"
   ]
  },
  {
   "cell_type": "markdown",
   "metadata": {},
   "source": [
    "Write a 20G file:"
   ]
  },
  {
   "cell_type": "code",
   "execution_count": null,
   "metadata": {},
   "outputs": [],
   "source": [
    "command='dd if=/dev/zero of=/tmp/output bs=25G count=1 oflag=direct'\n",
    "try:\n",
    "    stdout, stderr = node.execute(command)\n",
    "    print(f\"stdout: {stdout}\")\n",
    "    print(f\"stderr: {stderr}\")\n",
    "except Exception as e:\n",
    "    print(f\"Exception: {e}\")"
   ]
  },
  {
   "cell_type": "markdown",
   "metadata": {},
   "source": [
    "The maximum value of `bs` is limited by the size of the VM's memory. Very large write tests must have reasonable values of `bs` and increased `count`. \n",
    "\n",
    "Try larger write tests. These tests may take some time. Be patient. "
   ]
  },
  {
   "cell_type": "code",
   "execution_count": null,
   "metadata": {},
   "outputs": [],
   "source": [
    "command='dd if=/dev/zero of=/tmp/output bs=25G count=16 oflag=direct'\n",
    "try:\n",
    "    stdout, stderr = node.execute(command)\n",
    "    print(f\"stdout: {stdout}\")\n",
    "    print(f\"stderr: {stderr}\")\n",
    "except Exception as e:\n",
    "    print(f\"Exception: {e}\")"
   ]
  },
  {
   "cell_type": "markdown",
   "metadata": {},
   "source": [
    "If you tests were large enough you will approach the write bandwidth of the disk. In our tests, this should be a bit under 200 MB/s."
   ]
  },
  {
   "cell_type": "markdown",
   "metadata": {},
   "source": [
    "### NVMe storage."
   ]
  },
  {
   "cell_type": "markdown",
   "metadata": {},
   "source": [
    "Now we can use `dd` command to benchmark the NVMe drive just like we did the local disk. Unlike the local disk, our VMs have direct control of the NVMe PCI devices so there is no hypervisor cache. Using `oflag=direct` will get closet to the actual performance of the NVMe block device.\n",
    " \n",
    "Try a 1G file without `oflag=direct`:"
   ]
  },
  {
   "cell_type": "code",
   "execution_count": null,
   "metadata": {},
   "outputs": [],
   "source": [
    "command='sudo dd if=/dev/zero of=/mnt/nvme_mount/output bs=1G count=1'\n",
    "try:\n",
    "    stdout, stderr = node.execute(command)\n",
    "    print(f\"stdout: {stdout}\")\n",
    "    print(f\"stderr: {stderr}\")\n",
    "except Exception as e:\n",
    "    print(f\"Exception: {e}\")"
   ]
  },
  {
   "cell_type": "markdown",
   "metadata": {},
   "source": [
    "Try a 1G file with `oflag=direct`:"
   ]
  },
  {
   "cell_type": "code",
   "execution_count": null,
   "metadata": {},
   "outputs": [],
   "source": [
    "command='sudo dd if=/dev/zero of=/mnt/nvme_mount/output bs=1G count=1 oflag=direct'\n",
    "try:\n",
    "    stdout, stderr = node.execute(command)\n",
    "    print(f\"stdout: {stdout}\")\n",
    "    print(f\"stderr: {stderr}\")\n",
    "except Exception as e:\n",
    "    print(f\"Exception: {e}\")"
   ]
  },
  {
   "cell_type": "markdown",
   "metadata": {},
   "source": [
    "Try a 5G file with `oflag=direct`:"
   ]
  },
  {
   "cell_type": "code",
   "execution_count": null,
   "metadata": {},
   "outputs": [],
   "source": [
    "command='sudo dd if=/dev/zero of=/mnt/nvme_mount/output bs=5G count=1 oflag=direct'\n",
    "try:\n",
    "    stdout, stderr = node.execute(command)\n",
    "    print(f\"stdout: {stdout}\")\n",
    "    print(f\"stderr: {stderr}\")\n",
    "except Exception as e:\n",
    "    print(f\"Exception: {e}\")"
   ]
  },
  {
   "cell_type": "markdown",
   "metadata": {},
   "source": [
    "Try a larger files with `oflag=direct`:"
   ]
  },
  {
   "cell_type": "code",
   "execution_count": null,
   "metadata": {},
   "outputs": [],
   "source": [
    "command='sudo dd if=/dev/zero of=/mnt/nvme_mount/output bs=1G count=100 oflag=direct'\n",
    "try:\n",
    "    stdout, stderr = node.execute(command)\n",
    "    print(f\"stdout: {stdout}\")\n",
    "    print(f\"stderr: {stderr}\")\n",
    "except Exception as e:\n",
    "    print(f\"Exception: {e}\")"
   ]
  },
  {
   "cell_type": "markdown",
   "metadata": {},
   "source": [
    "You should be seeing much higher bandwidths than with the local disk.\n",
    "\n",
    "## Cleanup Your Experiment"
   ]
  },
  {
   "cell_type": "code",
   "execution_count": null,
   "metadata": {},
   "outputs": [],
   "source": [
    "try:\n",
    "    slice = fablib.get_slice(name=slice_name)\n",
    "    slice.delete()\n",
    "except Exception as e:\n",
    "    print(f\"Exception: {e}\")"
   ]
  },
  {
   "cell_type": "code",
   "execution_count": null,
   "metadata": {},
   "outputs": [],
   "source": []
  }
 ],
 "metadata": {
  "kernelspec": {
   "display_name": "Python 3 (ipykernel)",
   "language": "python",
   "name": "python3"
  },
  "language_info": {
   "codemirror_mode": {
    "name": "ipython",
    "version": 3
   },
   "file_extension": ".py",
   "mimetype": "text/x-python",
   "name": "python",
   "nbconvert_exporter": "python",
   "pygments_lexer": "ipython3",
   "version": "3.9.2"
  }
 },
 "nbformat": 4,
 "nbformat_minor": 4
}
