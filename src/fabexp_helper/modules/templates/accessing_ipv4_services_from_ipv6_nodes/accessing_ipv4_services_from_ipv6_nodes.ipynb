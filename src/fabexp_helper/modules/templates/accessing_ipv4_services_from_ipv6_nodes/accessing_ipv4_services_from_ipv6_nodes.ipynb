{
 "cells": [
  {
   "cell_type": "markdown",
   "metadata": {
    "tags": []
   },
   "source": [
    "# Access non-IPv6 services (i.e. GitHub) from IPv6 FABRIC nodes.\n",
    "\n",
    "Based on [https://nat64.net/](https://nat64.net/)\n",
    "\n",
    "Note that NAT64 could go away at any minute, as it is a public service ran independently by Kasper Dupont, and is not affiliated with FABRIC."
   ]
  },
  {
   "cell_type": "markdown",
   "metadata": {
    "tags": []
   },
   "source": [
    "## Import the FABlib Library\n",
    "\n",
    "The `show_config` method shows what some environment variables relevant to your FABRIC user are set to. All necessary variables may be set using the **Configure Environment** notebook."
   ]
  },
  {
   "cell_type": "code",
   "execution_count": null,
   "metadata": {
    "tags": []
   },
   "outputs": [],
   "source": [
    "from fabrictestbed_extensions.fablib.fablib import FablibManager as fablib_manager\n",
    "\n",
    "try:\n",
    "    fablib = fablib_manager()\n",
    "                     \n",
    "    fablib.show_config()\n",
    "except Exception as e:\n",
    "    print(f\"Exception: {e}\")"
   ]
  },
  {
   "cell_type": "markdown",
   "metadata": {
    "tags": []
   },
   "source": [
    "## Create a Node"
   ]
  },
  {
   "cell_type": "code",
   "execution_count": null,
   "metadata": {},
   "outputs": [],
   "source": [
    "try:\n",
    "    #Create a slice\n",
    "    slice = fablib.new_slice(name=\"MySlice\")\n",
    "\n",
    "    # Add a node. (We want an IPv6 site so avoid IPv4 sites)\n",
    "    # Add a node. TACC and MAX are both IPv4 sites. Since we\n",
    "    # want an IPv6 site, we will avoid those two sites.\n",
    "    slice.add_node(name=\"Node1\", avoid=['TACC','MAX'])\n",
    "\n",
    "    slice.submit()\n",
    "except Exception as e:\n",
    "    print(f\"Exception: {e}\")"
   ]
  },
  {
   "cell_type": "markdown",
   "metadata": {
    "tags": []
   },
   "source": [
    "### Print the node\n"
   ]
  },
  {
   "cell_type": "code",
   "execution_count": null,
   "metadata": {},
   "outputs": [],
   "source": [
    "try:\n",
    "    for node in slice.get_nodes():\n",
    "        print(f\"{node}\")\n",
    "except Exception as e:\n",
    "    print(f\"Exception: {e}\")"
   ]
  },
  {
   "cell_type": "markdown",
   "metadata": {
    "tags": []
   },
   "source": [
    "## Upload and Execute the NAT64 Script\n",
    "\n",
    "We will use a NAT64 script, which configures an *IPv6* node so that it can access non-*IPv6* services. To view the script, click [here](./upload/nat64.sh). This script sets up the [Public NAT64 Service](https://nat64.net) on your node."
   ]
  },
  {
   "cell_type": "code",
   "execution_count": null,
   "metadata": {},
   "outputs": [],
   "source": [
    "from ipaddress import ip_address, IPv6Address\n",
    "\n",
    "try:\n",
    "    node = slice.get_node(name=\"Node1\")     \n",
    "    \n",
    "    # If the node is an IPv6 Node then configure NAT64\n",
    "    if type(ip_address(node.get_management_ip())) is IPv6Address:\n",
    "        node.upload_file('./upload/nat64.sh', 'nat64.sh')\n",
    "        \n",
    "        stdout, stderr = node.execute(f'chmod +x nat64.sh && ./nat64.sh')\n",
    "        \n",
    "    # Access non-IPv6 Services\n",
    "    stdout, stderr = node.execute(f'sudo yum install -y -q git && git clone https://github.com/fabric-testbed/jupyter-examples.git')\n",
    "    \n",
    "    stdout, stderr = node.execute(f'ls jupyter-examples')\n",
    "        \n",
    "except Exception as e:\n",
    "    print(f\"Exception: {e}\")"
   ]
  },
  {
   "cell_type": "markdown",
   "metadata": {
    "tags": []
   },
   "source": [
    "## Delete the Slice\n",
    "\n",
    "Please delete your slice when you are done with your experiment."
   ]
  },
  {
   "cell_type": "code",
   "execution_count": null,
   "metadata": {},
   "outputs": [],
   "source": [
    "try:\n",
    "    slice.delete()\n",
    "except Exception as e:\n",
    "    print(f\"Exception: {e}\")"
   ]
  }
 ],
 "metadata": {
  "kernelspec": {
   "display_name": "Python 3 (ipykernel)",
   "language": "python",
   "name": "python3"
  },
  "language_info": {
   "codemirror_mode": {
    "name": "ipython",
    "version": 3
   },
   "file_extension": ".py",
   "mimetype": "text/x-python",
   "name": "python",
   "nbconvert_exporter": "python",
   "pygments_lexer": "ipython3",
   "version": "3.11.0"
  }
 },
 "nbformat": 4,
 "nbformat_minor": 4
}
