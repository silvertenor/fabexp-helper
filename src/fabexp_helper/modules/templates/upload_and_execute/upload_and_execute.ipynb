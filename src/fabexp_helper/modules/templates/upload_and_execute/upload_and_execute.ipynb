{
 "cells": [
  {
   "cell_type": "markdown",
   "metadata": {
    "tags": []
   },
   "source": [
    "# Upload and Execute a Script\n",
    "\n"
   ]
  },
  {
   "cell_type": "markdown",
   "metadata": {
    "tags": []
   },
   "source": [
    "## Import the FABlib Library\n",
    "\n",
    "The FABlib library contains tools that make the original FABRIC model easier to use.\n",
    "\n",
    "The `show_config` method shows what some environment variables relevant to your FABRIC user are set to. Set these environment variables using the **Configure Environment** notebook."
   ]
  },
  {
   "cell_type": "code",
   "execution_count": null,
   "metadata": {
    "tags": []
   },
   "outputs": [],
   "source": [
    "from fabrictestbed_extensions.fablib.fablib import FablibManager as fablib_manager\n",
    "\n",
    "try:\n",
    "    fablib = fablib_manager()\n",
    "                     \n",
    "    fablib.show_config()\n",
    "except Exception as e:\n",
    "    print(f\"Exception: {e}\")"
   ]
  },
  {
   "cell_type": "markdown",
   "metadata": {
    "tags": []
   },
   "source": [
    "## Create the Experiment Request and Save it to a File\n"
   ]
  },
  {
   "cell_type": "code",
   "execution_count": null,
   "metadata": {},
   "outputs": [],
   "source": [
    "try:\n",
    "    #Create a slice\n",
    "    slice = fablib.new_slice(name=\"MySlice\")\n",
    "\n",
    "    # Add a node\n",
    "    slice.add_node(name=\"Node1\")\n",
    "\n",
    "    slice.submit()\n",
    "except Exception as e:\n",
    "    print(f\"Exception: {e}\")"
   ]
  },
  {
   "cell_type": "markdown",
   "metadata": {
    "tags": []
   },
   "source": [
    "## Print the node\n"
   ]
  },
  {
   "cell_type": "code",
   "execution_count": null,
   "metadata": {},
   "outputs": [],
   "source": [
    "try:\n",
    "    slice = fablib.get_slice(name=slice_name)\n",
    "    slice.show()\n",
    "    slice.list_nodes()\n",
    "except Exception as e:\n",
    "    print(f\"Exception: {e}\")"
   ]
  },
  {
   "cell_type": "markdown",
   "metadata": {
    "tags": []
   },
   "source": [
    "## Upload and Execute a Configuration Script\n",
    "\n",
    "(Optional) Edit the script by opening it in Jupyter. To edit, either click [here](./upload/config_script.sh) or click on the script in the filebrowser on the left side of the browser window. "
   ]
  },
  {
   "cell_type": "markdown",
   "metadata": {},
   "source": [
    "Upload the script"
   ]
  },
  {
   "cell_type": "code",
   "execution_count": null,
   "metadata": {},
   "outputs": [],
   "source": [
    "try:\n",
    "    node = slice.get_node(name=\"Node1\")        \n",
    "\n",
    "    # Using the upload_file method, you can upload a local file\n",
    "    # from a path relative to the notebook. config_script.sh is\n",
    "    # located in the same directory as this notebook!\n",
    "    result = node.upload_file('./upload/config_script.sh','config_script.sh')\n",
    "except Exception as e:\n",
    "    print(f\"Exception: {e}\")"
   ]
  },
  {
   "cell_type": "markdown",
   "metadata": {},
   "source": [
    "Run the script after making sure it is executeable (via `chmod +x`)."
   ]
  },
  {
   "cell_type": "code",
   "execution_count": null,
   "metadata": {},
   "outputs": [],
   "source": [
    "try:\n",
    "    # Some additional arguments to run our script with.\n",
    "    script_args=\"net-tools tcpdump vim\"\n",
    "    \n",
    "    node = slice.get_node(name=\"Node1\")\n",
    "    \n",
    "    # Using the execute method, we can run the script on the\n",
    "    # remote host. Additionaly, the standard output is being\n",
    "    # redirected to the config.log file and will not appear \n",
    "    # in this cell.\n",
    "    stdout, stderr = node.execute(f'chmod +x config_script.sh && ./config_script.sh {script_args} > config.log')\n",
    "    \n",
    "except Exception as e:\n",
    "    print(f\"Exception: {e}\")"
   ]
  },
  {
   "cell_type": "markdown",
   "metadata": {},
   "source": [
    "Download the output."
   ]
  },
  {
   "cell_type": "code",
   "execution_count": null,
   "metadata": {},
   "outputs": [],
   "source": [
    "try:\n",
    "    node = slice.get_node(name=\"Node1\")        \n",
    "\n",
    "    # This time using the download_file method, we can retrieve\n",
    "    # the output stored in config.log and access it locally.\n",
    "    node.download_file('./logs/config.log','config.log')\n",
    "except Exception as e:\n",
    "    print(f\"Exception: {e}\")"
   ]
  },
  {
   "cell_type": "markdown",
   "metadata": {},
   "source": [
    "Now you can access the output in your Jupyter notebook.  In this case our output is a log file that can viewed by clicking the log file in the file browser or running the cat command in the notebook."
   ]
  },
  {
   "cell_type": "code",
   "execution_count": null,
   "metadata": {},
   "outputs": [],
   "source": [
    "# Beginning a line with an exclamation point runs it as a bash command.\n",
    "!cat logs/config.log"
   ]
  },
  {
   "cell_type": "markdown",
   "metadata": {
    "tags": []
   },
   "source": [
    "## Delete the Slice\n",
    "\n",
    "Please delete your slice when you are done with your experiment."
   ]
  },
  {
   "cell_type": "code",
   "execution_count": null,
   "metadata": {},
   "outputs": [],
   "source": [
    "try:\n",
    "    slice.delete()\n",
    "except Exception as e:\n",
    "    print(f\"Exception: {e}\")"
   ]
  }
 ],
 "metadata": {
  "kernelspec": {
   "display_name": "Python 3 (ipykernel)",
   "language": "python",
   "name": "python3"
  },
  "language_info": {
   "codemirror_mode": {
    "name": "ipython",
    "version": 3
   },
   "file_extension": ".py",
   "mimetype": "text/x-python",
   "name": "python",
   "nbconvert_exporter": "python",
   "pygments_lexer": "ipython3",
   "version": "3.11.0"
  }
 },
 "nbformat": 4,
 "nbformat_minor": 4
}
